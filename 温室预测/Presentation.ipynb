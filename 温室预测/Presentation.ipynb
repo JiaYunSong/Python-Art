{
 "cells": [
  {
   "cell_type": "markdown",
   "metadata": {
    "pycharm": {
     "name": "#%% md\n"
    }
   },
   "source": []
  },
  {
   "cell_type": "markdown",
   "metadata": {
    "pycharm": {
     "name": "#%% md\n"
    }
   },
   "source": [
    "# 导入本工程所需要的第三方库\n",
    "- 引包解释\n",
    "    * pandas：读取csv数组\n",
    "    * numpy：主要使用其中array，reshape函数预处理数据\n",
    "    * LinearRegression：数据线性回归的框架依赖\n",
    "    * matplotlib.pyplot：实现数据可视化"
   ]
  },
  {
   "cell_type": "code",
   "execution_count": 1,
   "metadata": {},
   "outputs": [],
   "source": [
    "import pandas as pd\n",
    "import numpy as np\n",
    "from sklearn.linear_model import LinearRegression\n",
    "import matplotlib.pyplot as plt"
   ]
  },
  {
   "cell_type": "markdown",
   "metadata": {
    "pycharm": {
     "name": "#%% md\n"
    }
   },
   "source": [
    "# 文件读入\n"
   ]
  },
  {
   "cell_type": "code",
   "execution_count": 2,
   "metadata": {
    "pycharm": {
     "name": "#%%\n"
    }
   },
   "outputs": [],
   "source": [
    "data=pd.read_csv(\"wsdata.csv\",encoding=\"utf8\")"
   ]
  },
  {
   "cell_type": "markdown",
   "metadata": {},
   "source": [
    "# 基础常量设置\n",
    "\n",
    "- 变量解释\n",
    "    * day：训练的天数\n",
    "    * train_time：通过训练天数算得训练时间\n"
   ]
  },
  {
   "cell_type": "code",
   "execution_count": 3,
   "metadata": {
    "collapsed": false,
    "pycharm": {
     "name": "#%%\n"
    }
   },
   "outputs": [],
   "source": [
    "day=700\n",
    "train_time=60*24*day"
   ]
  },
  {
   "cell_type": "markdown",
   "metadata": {
    "pycharm": {
     "name": "#%% md\n"
    }
   },
   "source": [
    "# 数据预处理\n",
    "## 通过一系列的操作使数据变为fit函数可操作的数据\n",
    "\n",
    "- 变量解释\n",
    "    * x_train：时间戳转化为的x训练集\n",
    "    * y_train：温度转化为的y训练集\n"
   ]
  },
  {
   "cell_type": "code",
   "execution_count": 4,
   "metadata": {
    "pycharm": {
     "name": "#%%\n"
    }
   },
   "outputs": [],
   "source": [
    "#  选择 时间戳 作为x_train数据源\n",
    "x_train=[data[\"时间戳\"][100:100+int(train_time/60)]]\n",
    "x_train=x_train[0].tolist()\n",
    "for index,value in enumerate(x_train):\n",
    "    x_train[index]=int(x_train[index])\n",
    "for index,value in enumerate(x_train):\n",
    "    x_train[index]-=x_train[-1]\n",
    "\n",
    "#  由于选择了初始时间，此处把x_train反转\n",
    "x_train=x_train[::-1]\n",
    "\n",
    "#  选择 温度 作为y_train数据源\n",
    "y_train=[data[\"温度\"][100:100+int(train_time/60)]]\n",
    "\n",
    "y_train=y_train[0].tolist()\n",
    "for index,value in enumerate(y_train):\n",
    "    y_train[index]=float(y_train[index])\n",
    "    \n",
    "#  由于x_train进行了反转，因此y_train也随之反转\n",
    "y_train=y_train[::-1]\n",
    "    \n",
    "#  由于LinearRegression实例中的fit函数要求2D参数，\n",
    "#  我们将训练数据集进行reshape处理\n",
    "x_train=np.array(x_train)\n",
    "y_train=np.array(y_train)\n",
    "x_train=x_train.reshape(-1,1)\n",
    "y_train=y_train.reshape(-1,1)"
   ]
  },
  {
   "cell_type": "markdown",
   "metadata": {
    "pycharm": {
     "name": "#%% md\n"
    }
   },
   "source": [
    "# 初阶简单线性回归\n",
    "\n",
    "- 变量解释\n",
    "    * lin_reg：创建的LinearRegression实例\n",
    "    * y_pred：作为接收预测数据的一个容器\n",
    "    * y_after：接收list化的y_pred来作为plt参数"
   ]
  },
  {
   "cell_type": "code",
   "execution_count": 5,
   "metadata": {
    "pycharm": {
     "name": "#%%\n"
    }
   },
   "outputs": [
    {
     "data": {
      "text/plain": [
       "<matplotlib.collections.PathCollection at 0x7fa98f699390>"
      ]
     },
     "execution_count": 5,
     "metadata": {},
     "output_type": "execute_result"
    },
    {
     "data": {
      "image/png": "[encoded data removed]",
      "text/plain": [
       "<Figure size 432x288 with 1 Axes>"
      ]
     },
     "metadata": {
      "needs_background": "light"
     },
     "output_type": "display_data"
    }
   ],
   "source": [
    "#  创建的LinearRegression实例并进行拟合\n",
    "lin_reg=LinearRegression()\n",
    "lin_reg.fit(x_train,y_train)\n",
    "\n",
    "#  定义y_pred为x_train的预测集，并最终转化为y_after用来绘图\n",
    "y_pred=lin_reg.predict(x_train)\n",
    "y_pred=y_pred.reshape(-1,)\n",
    "y_after=list(y_pred)\n",
    "\n",
    "# 绘图\n",
    "plt.plot(x_train,y_after,color='b')\n",
    "plt.scatter(x_train,y_train,s=10,marker='x',color='r')"
   ]
  },
  {
   "cell_type": "markdown",
   "metadata": {
    "pycharm": {
     "name": "#%% md\n"
    }
   },
   "source": [
    "# 定义短滑窗线性回归拟合函数\n",
    "    本模块使用短时数据实现短时预测，\n",
    "    实验证明这样极大地上增加了拟合的精准度\n",
    "- 变量解释\n",
    "    * Docker_x：作为存储用来绘图的数据real_x的容器\n",
    "    * Docker_y：作为存储用来绘图的数据real_y的容器\n",
    "    * Docker_py：作为存储用来绘图的数据real_py的容器\n",
    "    * short_lin：创建的用来处理短数据的LinearRegression实例\n",
    "    * data_length：每次作为训练集的数据长度\n",
    "    * time_length：总共需要预测的时长"
   ]
  },
  {
   "cell_type": "code",
   "execution_count": 6,
   "metadata": {
    "pycharm": {
     "name": "#%%\n"
    }
   },
   "outputs": [],
   "source": [
    "def sliding_lin(dlength,tlength):\n",
    "    \n",
    "    #  变量定义\n",
    "    data_length=dlength\n",
    "    time_length=tlength\n",
    "    Docker_x=[]\n",
    "    Docker_y=[]\n",
    "    Docker_py=[]\n",
    "    \n",
    "    temp_short_lin=LinearRegression()\n",
    "    for i in range(tlength):\n",
    "        #  每次运行前执行init函数初始化\n",
    "        temp_short_lin.__init__()\n",
    "        \n",
    "        #  通过前置 train 数据连续截取data_length的数据\n",
    "        short_data_x=x_train[i:i+dlength]\n",
    "        short_data_y=y_train[i:i+dlength]\n",
    "          \n",
    "        #  借助截取的数据进行LinearRegression的拟合\n",
    "        temp_short_lin.fit(short_data_x,short_data_y)\n",
    "        \n",
    "        #  通过前置 train 数据截取获得进行预测的真实数据\n",
    "        real_x=x_train[i+dlength:i+dlength+1]\n",
    "        real_y=y_train[i+dlength:i+dlength+1]\n",
    "        \n",
    "        #  通过predict函数获取 real_y 的预测值\n",
    "        predict_y=temp_short_lin.predict(real_x)\n",
    "        \n",
    "        #  将本次循环的数据存储到对应的容器当中\n",
    "        Docker_x.append(real_x[0])\n",
    "        Docker_y.append(real_y[0])\n",
    "        Docker_py.append(predict_y[0])\n",
    "    \n",
    "    #  绘图    \n",
    "    plt.plot(Docker_x,Docker_y,color='r')\n",
    "    plt.scatter(Docker_x,Docker_py,color='b')"
   ]
  },
  {
   "cell_type": "code",
   "execution_count": 7,
   "metadata": {},
   "outputs": [
    {
     "data": {
      "image/png": "[encoded data removed]",
      "text/plain": [
       "<Figure size 432x288 with 1 Axes>"
      ]
     },
     "metadata": {
      "needs_background": "light"
     },
     "output_type": "display_data"
    }
   ],
   "source": [
    "sliding_lin(5,100)"
   ]
  },
  {
   "cell_type": "code",
   "execution_count": null,
   "metadata": {},
   "outputs": [],
   "source": []
  }
 ],
 "metadata": {
  "kernelspec": {
   "display_name": "Python 3",
   "language": "python",
   "name": "python3"
  },
  "language_info": {
   "codemirror_mode": {
    "name": "ipython",
    "version": 3
   },
   "file_extension": ".py",
   "mimetype": "text/x-python",
   "name": "python",
   "nbconvert_exporter": "python",
   "pygments_lexer": "ipython3",
   "version": "3.6.8"
  },
  "pycharm": {
   "stem_cell": {
    "cell_type": "raw",
    "metadata": {
     "collapsed": false
    },
    "source": []
   }
  }
 },
 "nbformat": 4,
 "nbformat_minor": 2
}
